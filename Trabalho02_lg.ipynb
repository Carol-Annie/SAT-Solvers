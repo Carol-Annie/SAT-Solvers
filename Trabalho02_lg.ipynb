{
  "nbformat": 4,
  "nbformat_minor": 0,
  "metadata": {
    "colab": {
      "name": "Trabalho02_lg",
      "provenance": [],
      "collapsed_sections": []
    },
    "kernelspec": {
      "display_name": "Python 3",
      "name": "python3"
    }
  },
  "cells": [
    {
      "cell_type": "markdown",
      "metadata": {
        "id": "mvAnbZ1uKkyB"
      },
      "source": [
        "# Preparação"
      ]
    },
    {
      "cell_type": "code",
      "metadata": {
        "colab": {
          "base_uri": "https://localhost:8080/"
        },
        "id": "gHEiggtT6813",
        "outputId": "d551c837-1afc-49e8-9a8e-4cff00583315"
      },
      "source": [
        "pip install python-sat"
      ],
      "execution_count": null,
      "outputs": [
        {
          "output_type": "stream",
          "text": [
            "Collecting python-sat\n",
            "\u001b[?25l  Downloading https://files.pythonhosted.org/packages/52/b1/9ac706349adcca3a8b8be8b9ccd40fd214896e65ef26d86072d6b5bce831/python_sat-0.1.7.dev1-cp37-cp37m-manylinux2010_x86_64.whl (1.8MB)\n",
            "\u001b[K     |████████████████████████████████| 1.8MB 6.6MB/s \n",
            "\u001b[?25hRequirement already satisfied: six in /usr/local/lib/python3.7/dist-packages (from python-sat) (1.15.0)\n",
            "Installing collected packages: python-sat\n",
            "Successfully installed python-sat-0.1.7.dev1\n"
          ],
          "name": "stdout"
        }
      ]
    },
    {
      "cell_type": "markdown",
      "metadata": {
        "id": "KBTojKw8U0jr"
      },
      "source": [
        "Arestas do grafo que iremos procurar uma solução."
      ]
    },
    {
      "cell_type": "code",
      "metadata": {
        "id": "WJORGL00_1We"
      },
      "source": [
        "# altere a variável a baixo.\n",
        "arestas = [\"AB\", \"AF\", \"AG\", \"BC\", \"CG\", \"CE\", \"CD\", \"DE\", \"EG\", \"EF\"]"
      ],
      "execution_count": null,
      "outputs": []
    },
    {
      "cell_type": "markdown",
      "metadata": {
        "id": "fhIXlQ1fT8D7"
      },
      "source": [
        "Cria variáveis auxiliares."
      ]
    },
    {
      "cell_type": "code",
      "metadata": {
        "id": "-_CccmA3Tvx9"
      },
      "source": [
        "formulas = []\n",
        "predicados = []"
      ],
      "execution_count": null,
      "outputs": []
    },
    {
      "cell_type": "markdown",
      "metadata": {
        "id": "D_tpPae1Ly42"
      },
      "source": [
        "Garante que tem as arestas inseridas nos dois entidos, remove repetidos e calcula a quantidade de passos."
      ]
    },
    {
      "cell_type": "code",
      "metadata": {
        "id": "ozSuSIbeLylq"
      },
      "source": [
        "arestas.extend([a[::-1] for a in arestas])\n",
        "arestas = list(set(arestas))\n",
        "qtd_passos = int(len(arestas) / 2)"
      ],
      "execution_count": null,
      "outputs": []
    },
    {
      "cell_type": "markdown",
      "metadata": {
        "id": "3PkN9kFRKT1G"
      },
      "source": [
        "Gera a matriz com todos os possíveis predicados."
      ]
    },
    {
      "cell_type": "code",
      "metadata": {
        "id": "s2PHMeTKAKXg"
      },
      "source": [
        "for i, aresta in enumerate(arestas):\n",
        "  for j in range(qtd_passos):\n",
        "    predicados.append(f\"{j+1}_{aresta}\")"
      ],
      "execution_count": null,
      "outputs": []
    },
    {
      "cell_type": "markdown",
      "metadata": {
        "id": "VNXC1IQ6KuEB"
      },
      "source": [
        "# Criação de regras"
      ]
    },
    {
      "cell_type": "markdown",
      "metadata": {
        "id": "g15gRpm7LBJh"
      },
      "source": [
        "### Restrições de duplicidade"
      ]
    },
    {
      "cell_type": "markdown",
      "metadata": {
        "id": "dXMU-oa_b8Po"
      },
      "source": [
        "Garante que uma posição terá somente uma aresta."
      ]
    },
    {
      "cell_type": "code",
      "metadata": {
        "id": "XUeQQKlvSA-M"
      },
      "source": [
        "for atual in predicados:\n",
        "  pos_atual = atual.split('_')[0]\n",
        "  for outro in predicados:\n",
        "    pos_outro = outro.split('_')[0]\n",
        "    if atual != outro and pos_atual == pos_outro:\n",
        "      formulas.append([f\"¬{atual}\",f\"¬{outro}\"])"
      ],
      "execution_count": null,
      "outputs": []
    },
    {
      "cell_type": "markdown",
      "metadata": {
        "id": "pwPG44rxbvF9"
      },
      "source": [
        "Garante que uma aresta será utilizada apenas em uma posição."
      ]
    },
    {
      "cell_type": "code",
      "metadata": {
        "id": "vPSuO1HmU9sE"
      },
      "source": [
        "for atual in predicados:\n",
        "  aresta_atual = atual.split('_')[1]\n",
        "  for outro in predicados:\n",
        "    aresta_outro = outro.split('_')[1]\n",
        "    if atual != outro and aresta_atual == aresta_outro:\n",
        "      formulas.append([f\"¬{atual}\",f\"¬{outro}\"])"
      ],
      "execution_count": null,
      "outputs": []
    },
    {
      "cell_type": "markdown",
      "metadata": {
        "id": "S6pVw4h8Lhx7"
      },
      "source": [
        "### Restrição de transição\n",
        "\n",
        "Gera as fórmulas que formam os possíveis próximos passos."
      ]
    },
    {
      "cell_type": "code",
      "metadata": {
        "id": "C7409hODWZQd"
      },
      "source": [
        "for atual in predicados:\n",
        "  aux = [f\"¬{atual}\"]\n",
        "  pos_atual, aresta_atual = atual.split('_')\n",
        "  for outro in predicados:\n",
        "    pos_outro, aresta_outro = outro.split('_')\n",
        "    if atual != outro:\n",
        "      if int(pos_atual)+1 == int(pos_outro) and aresta_atual[-1] == aresta_outro[-2] and aresta_atual[0] != aresta_outro[1]:\n",
        "        aux.append(outro)\n",
        "  if len(aux) > 1:\n",
        "    formulas.append(aux)"
      ],
      "execution_count": null,
      "outputs": []
    },
    {
      "cell_type": "markdown",
      "metadata": {
        "id": "gWyuwhWoQil9"
      },
      "source": [
        "### Restrição de volta\n",
        "Impedem a utilização de uma aresta se esta já foi utilizada no sentido contrário."
      ]
    },
    {
      "cell_type": "code",
      "metadata": {
        "id": "AAZlKzyhaL_W"
      },
      "source": [
        "for atual in predicados:\n",
        "  aresta_atual = atual.split('_')[1]\n",
        "  for outro in predicados:\n",
        "    aresta_outro = outro.split('_')[1]\n",
        "    if aresta_atual == aresta_outro[::-1]:\n",
        "      formulas.append([f\"¬{atual}\", f\"¬{outro}\"])"
      ],
      "execution_count": null,
      "outputs": []
    },
    {
      "cell_type": "markdown",
      "metadata": {
        "id": "R4Gp4EqDQrRP"
      },
      "source": [
        "### Restrição de utilização das arestas\n",
        "\n",
        "Garante que todas as arestas serão utilizadas."
      ]
    },
    {
      "cell_type": "code",
      "metadata": {
        "id": "OorJehhDWQdG"
      },
      "source": [
        "_aux = dict()\n",
        "\n",
        "for predicado in predicados:\n",
        "  aresta = predicado.split('_')[1]\n",
        "\n",
        "  if aresta in _aux:\n",
        "    _aux[aresta].append(predicado)\n",
        "  elif aresta[::-1] in _aux:\n",
        "    _aux[aresta[::-1]].append(predicado)\n",
        "  else:\n",
        "    _aux[aresta] = [predicado]\n",
        "\n",
        "for key in _aux:\n",
        "  formulas.append(_aux[key]) "
      ],
      "execution_count": null,
      "outputs": []
    },
    {
      "cell_type": "markdown",
      "metadata": {
        "id": "OgZtHZh4KfiZ"
      },
      "source": [
        "# Resolução"
      ]
    },
    {
      "cell_type": "markdown",
      "metadata": {
        "id": "nha8AvcqdQbh"
      },
      "source": [
        "Prepara o python-sat e Glucose."
      ]
    },
    {
      "cell_type": "code",
      "metadata": {
        "id": "tTAmk5Vc5JHI"
      },
      "source": [
        "from pysat.solvers import Glucose4\n",
        "from pysat.formula import CNF\n",
        "from pysat.solvers import Solver\n",
        "\n",
        "g = Glucose4()\n",
        "formula = CNF()"
      ],
      "execution_count": null,
      "outputs": []
    },
    {
      "cell_type": "markdown",
      "metadata": {
        "id": "pmfF1cyydAet"
      },
      "source": [
        "Transforma e adiciona as formulas geradas."
      ]
    },
    {
      "cell_type": "code",
      "metadata": {
        "id": "djuONo4_c_Za"
      },
      "source": [
        "for _formula in formulas:\n",
        "  aux = list()\n",
        "  for predicado in _formula:\n",
        "    if predicado in predicados:\n",
        "      aux.append(predicados.index(predicado) + 1)\n",
        "    elif '¬' == predicado[0] and predicado[1:] in predicados:\n",
        "      aux.append((predicados.index(predicado[1:]) +1 ) * -1)\n",
        "  formula.append(aux)\n",
        "\n",
        "g.append_formula(formula)"
      ],
      "execution_count": null,
      "outputs": []
    },
    {
      "cell_type": "markdown",
      "metadata": {
        "id": "LaSptaNlc7qI"
      },
      "source": [
        "Tenta solucionar."
      ]
    },
    {
      "cell_type": "code",
      "metadata": {
        "colab": {
          "base_uri": "https://localhost:8080/"
        },
        "id": "SIp9hkpAc6f_",
        "outputId": "1a8df62e-7981-49af-922b-ee0b7501e093"
      },
      "source": [
        "if g.solve():\n",
        "  resposta = sorted([predicados[x-1] for x in g.get_model() if x>0], key=lambda x: int(x.split('_')[0]))\n",
        "  print(\"Resposta:\", resposta)\n",
        "else:\n",
        "  print(\"É insatisfazível.\")"
      ],
      "execution_count": null,
      "outputs": [
        {
          "output_type": "stream",
          "text": [
            "Resposta: ['1_GE', '2_EC', '3_CB', '4_BA', '5_AG', '6_GC', '7_CD', '8_DE', '9_EF', '10_FA']\n"
          ],
          "name": "stdout"
        }
      ]
    }
  ]
}